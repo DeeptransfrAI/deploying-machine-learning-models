{
  "nbformat": 4,
  "nbformat_minor": 0,
  "metadata": {
    "colab": {
      "name": "MLP-MANUAL-Validation.py",
      "provenance": [],
      "collapsed_sections": [],
      "authorship_tag": "ABX9TyN0Ck7Ry3NFQywHF6D4/hYw",
      "include_colab_link": true
    },
    "kernelspec": {
      "name": "python3",
      "display_name": "Python 3"
    },
    "accelerator": "GPU"
  },
  "cells": [
    {
      "cell_type": "markdown",
      "metadata": {
        "id": "view-in-github",
        "colab_type": "text"
      },
      "source": [
        "<a href=\"https://colab.research.google.com/github/DeeptransfrAI/deploying-machine-learning-models/blob/test_branch_001/MLP_MANUAL_Validation_py.ipynb\" target=\"_parent\"><img src=\"https://colab.research.google.com/assets/colab-badge.svg\" alt=\"Open In Colab\"/></a>"
      ]
    },
    {
      "cell_type": "code",
      "metadata": {
        "id": "WXb8D1Wog0cS",
        "colab_type": "code",
        "colab": {
          "base_uri": "https://localhost:8080/",
          "height": 114
        },
        "outputId": "f48708a9-4c81-4bfa-94db-7c431cde364f"
      },
      "source": [
        "import keras\n",
        "import tensorflow as tf\n",
        "print(keras.__version__)\n",
        "print(tf.__version__)"
      ],
      "execution_count": 1,
      "outputs": [
        {
          "output_type": "stream",
          "text": [
            "Using TensorFlow backend.\n"
          ],
          "name": "stderr"
        },
        {
          "output_type": "display_data",
          "data": {
            "text/html": [
              "<p style=\"color: red;\">\n",
              "The default version of TensorFlow in Colab will soon switch to TensorFlow 2.x.<br>\n",
              "We recommend you <a href=\"https://www.tensorflow.org/guide/migrate\" target=\"_blank\">upgrade</a> now \n",
              "or ensure your notebook will continue to use TensorFlow 1.x via the <code>%tensorflow_version 1.x</code> magic:\n",
              "<a href=\"https://colab.research.google.com/notebooks/tensorflow_version.ipynb\" target=\"_blank\">more info</a>.</p>\n"
            ],
            "text/plain": [
              "<IPython.core.display.HTML object>"
            ]
          },
          "metadata": {
            "tags": []
          }
        },
        {
          "output_type": "stream",
          "text": [
            "2.2.5\n",
            "1.15.0\n"
          ],
          "name": "stdout"
        }
      ]
    },
    {
      "cell_type": "code",
      "metadata": {
        "id": "M0kDYKNthCjw",
        "colab_type": "code",
        "colab": {
          "resources": {
            "http://localhost:8080/nbextensions/google.colab/files.js": {
              "data": "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",
              "ok": true,
              "headers": [
                [
                  "content-type",
                  "application/javascript"
                ]
              ],
              "status": 200,
              "status_text": ""
            }
          },
          "base_uri": "https://localhost:8080/",
          "height": 74
        },
        "outputId": "20613cf7-b6fd-438b-97fd-daaafcb98255"
      },
      "source": [
        "from google.colab import files\n",
        "uploaded = files.upload()"
      ],
      "execution_count": 1,
      "outputs": [
        {
          "output_type": "display_data",
          "data": {
            "text/html": [
              "\n",
              "     <input type=\"file\" id=\"files-f67e63be-c645-45cc-acec-2e66f71984f2\" name=\"files[]\" multiple disabled />\n",
              "     <output id=\"result-f67e63be-c645-45cc-acec-2e66f71984f2\">\n",
              "      Upload widget is only available when the cell has been executed in the\n",
              "      current browser session. Please rerun this cell to enable.\n",
              "      </output>\n",
              "      <script src=\"/nbextensions/google.colab/files.js\"></script> "
            ],
            "text/plain": [
              "<IPython.core.display.HTML object>"
            ]
          },
          "metadata": {
            "tags": []
          }
        },
        {
          "output_type": "stream",
          "text": [
            "Saving diabetes.csv to diabetes.csv\n"
          ],
          "name": "stdout"
        }
      ]
    },
    {
      "cell_type": "code",
      "metadata": {
        "id": "LytNOz0NhN1B",
        "colab_type": "code",
        "colab": {
          "base_uri": "https://localhost:8080/",
          "height": 1000
        },
        "outputId": "a4a0d79a-fbf6-4051-e0db-0eac64f9257f"
      },
      "source": [
        "#load libs\n",
        "import io\n",
        "import pandas as pd\n",
        "from pandas import read_csv\n",
        "from keras.models import Sequential\n",
        "from keras.layers import Dense\n",
        "from sklearn.model_selection import train_test_split\n",
        "\n",
        "#load data\n",
        "data = pd.read_csv(io.BytesIO(uploaded['diabetes.csv']))\n",
        "#convert data into an array\n",
        "array = data.values\n",
        "#split the data\n",
        "X = array[:,:8]\n",
        "Y = array[:,8]\n",
        "#split traing and testing data\n",
        "X_train, X_test, Y_train, Y_test = train_test_split(X, Y, test_size = .20)\n",
        "#create our model\n",
        "model = Sequential()\n",
        "model.add(Dense(12, input_dim=8, activation= 'relu'))\n",
        "model.add(Dense(8, activation = 'relu'))\n",
        "model.add(Dense(1, activation = 'sigmoid'))\n",
        "#compile our model\n",
        "model.compile(loss='binary_crossentropy', optimizer='adam', metrics = ['accuracy'])\n",
        "#fit the model\n",
        "model.fit(X_train, Y_train, validation_data=(X_test,Y_test),epochs = 150, batch_size=10)\n",
        "\n",
        "\n"
      ],
      "execution_count": 12,
      "outputs": [
        {
          "output_type": "stream",
          "text": [
            "Train on 614 samples, validate on 154 samples\n",
            "Epoch 1/150\n",
            "614/614 [==============================] - 1s 1ms/step - loss: 7.9766 - acc: 0.3893 - val_loss: 3.0437 - val_acc: 0.6039\n",
            "Epoch 2/150\n",
            "614/614 [==============================] - 0s 358us/step - loss: 3.0556 - acc: 0.5163 - val_loss: 2.4340 - val_acc: 0.6429\n",
            "Epoch 3/150\n",
            "614/614 [==============================] - 0s 368us/step - loss: 2.4216 - acc: 0.5717 - val_loss: 2.1251 - val_acc: 0.6299\n",
            "Epoch 4/150\n",
            "614/614 [==============================] - 0s 357us/step - loss: 2.0638 - acc: 0.5619 - val_loss: 1.7948 - val_acc: 0.6104\n",
            "Epoch 5/150\n",
            "614/614 [==============================] - 0s 373us/step - loss: 1.7086 - acc: 0.5798 - val_loss: 1.2274 - val_acc: 0.5649\n",
            "Epoch 6/150\n",
            "614/614 [==============================] - 0s 367us/step - loss: 1.2969 - acc: 0.5603 - val_loss: 1.0968 - val_acc: 0.6169\n",
            "Epoch 7/150\n",
            "614/614 [==============================] - 0s 397us/step - loss: 1.2297 - acc: 0.5831 - val_loss: 0.9756 - val_acc: 0.6429\n",
            "Epoch 8/150\n",
            "614/614 [==============================] - 0s 390us/step - loss: 1.1681 - acc: 0.5651 - val_loss: 0.9770 - val_acc: 0.6818\n",
            "Epoch 9/150\n",
            "614/614 [==============================] - 0s 390us/step - loss: 1.0581 - acc: 0.5782 - val_loss: 0.9521 - val_acc: 0.5584\n",
            "Epoch 10/150\n",
            "614/614 [==============================] - 0s 376us/step - loss: 1.0003 - acc: 0.5912 - val_loss: 0.8278 - val_acc: 0.6753\n",
            "Epoch 11/150\n",
            "614/614 [==============================] - 0s 370us/step - loss: 0.9582 - acc: 0.6091 - val_loss: 0.8963 - val_acc: 0.6494\n",
            "Epoch 12/150\n",
            "614/614 [==============================] - 0s 386us/step - loss: 0.9258 - acc: 0.6189 - val_loss: 0.8538 - val_acc: 0.6039\n",
            "Epoch 13/150\n",
            "614/614 [==============================] - 0s 376us/step - loss: 0.8778 - acc: 0.6238 - val_loss: 0.8677 - val_acc: 0.6039\n",
            "Epoch 14/150\n",
            "614/614 [==============================] - 0s 362us/step - loss: 0.8552 - acc: 0.6026 - val_loss: 0.7800 - val_acc: 0.6558\n",
            "Epoch 15/150\n",
            "614/614 [==============================] - 0s 368us/step - loss: 0.8250 - acc: 0.6336 - val_loss: 0.8254 - val_acc: 0.6104\n",
            "Epoch 16/150\n",
            "614/614 [==============================] - 0s 370us/step - loss: 0.7986 - acc: 0.6303 - val_loss: 0.7787 - val_acc: 0.6104\n",
            "Epoch 17/150\n",
            "614/614 [==============================] - 0s 380us/step - loss: 0.7529 - acc: 0.6417 - val_loss: 0.7530 - val_acc: 0.6494\n",
            "Epoch 18/150\n",
            "614/614 [==============================] - 0s 375us/step - loss: 0.7811 - acc: 0.6433 - val_loss: 0.7482 - val_acc: 0.6299\n",
            "Epoch 19/150\n",
            "614/614 [==============================] - 0s 354us/step - loss: 0.7447 - acc: 0.6645 - val_loss: 0.8415 - val_acc: 0.5909\n",
            "Epoch 20/150\n",
            "614/614 [==============================] - 0s 341us/step - loss: 0.7258 - acc: 0.6384 - val_loss: 0.7282 - val_acc: 0.6558\n",
            "Epoch 21/150\n",
            "614/614 [==============================] - 0s 355us/step - loss: 0.7188 - acc: 0.6368 - val_loss: 0.7547 - val_acc: 0.5909\n",
            "Epoch 22/150\n",
            "614/614 [==============================] - 0s 380us/step - loss: 0.6987 - acc: 0.6596 - val_loss: 0.7231 - val_acc: 0.6299\n",
            "Epoch 23/150\n",
            "614/614 [==============================] - 0s 380us/step - loss: 0.6950 - acc: 0.6580 - val_loss: 0.7139 - val_acc: 0.6429\n",
            "Epoch 24/150\n",
            "614/614 [==============================] - 0s 357us/step - loss: 0.6901 - acc: 0.6531 - val_loss: 0.7419 - val_acc: 0.6429\n",
            "Epoch 25/150\n",
            "614/614 [==============================] - 0s 346us/step - loss: 0.6747 - acc: 0.6482 - val_loss: 0.6903 - val_acc: 0.6883\n",
            "Epoch 26/150\n",
            "614/614 [==============================] - 0s 383us/step - loss: 0.6666 - acc: 0.6710 - val_loss: 0.7289 - val_acc: 0.6623\n",
            "Epoch 27/150\n",
            "614/614 [==============================] - 0s 373us/step - loss: 0.6573 - acc: 0.6629 - val_loss: 0.6747 - val_acc: 0.7013\n",
            "Epoch 28/150\n",
            "614/614 [==============================] - 0s 367us/step - loss: 0.6433 - acc: 0.6857 - val_loss: 0.6932 - val_acc: 0.6623\n",
            "Epoch 29/150\n",
            "614/614 [==============================] - 0s 389us/step - loss: 0.6352 - acc: 0.6678 - val_loss: 0.7183 - val_acc: 0.6299\n",
            "Epoch 30/150\n",
            "614/614 [==============================] - 0s 403us/step - loss: 0.6350 - acc: 0.6840 - val_loss: 0.7121 - val_acc: 0.6299\n",
            "Epoch 31/150\n",
            "614/614 [==============================] - 0s 379us/step - loss: 0.6548 - acc: 0.6661 - val_loss: 0.6636 - val_acc: 0.6948\n",
            "Epoch 32/150\n",
            "614/614 [==============================] - 0s 394us/step - loss: 0.6317 - acc: 0.7052 - val_loss: 0.6986 - val_acc: 0.6364\n",
            "Epoch 33/150\n",
            "614/614 [==============================] - 0s 351us/step - loss: 0.6119 - acc: 0.6873 - val_loss: 0.8071 - val_acc: 0.6039\n",
            "Epoch 34/150\n",
            "614/614 [==============================] - 0s 389us/step - loss: 0.6280 - acc: 0.6726 - val_loss: 0.7067 - val_acc: 0.6234\n",
            "Epoch 35/150\n",
            "614/614 [==============================] - 0s 423us/step - loss: 0.6156 - acc: 0.6971 - val_loss: 0.6746 - val_acc: 0.6558\n",
            "Epoch 36/150\n",
            "614/614 [==============================] - 0s 380us/step - loss: 0.6113 - acc: 0.6922 - val_loss: 0.7357 - val_acc: 0.6429\n",
            "Epoch 37/150\n",
            "614/614 [==============================] - 0s 403us/step - loss: 0.6106 - acc: 0.6824 - val_loss: 0.6782 - val_acc: 0.6753\n",
            "Epoch 38/150\n",
            "614/614 [==============================] - 0s 375us/step - loss: 0.6174 - acc: 0.6954 - val_loss: 0.6919 - val_acc: 0.6623\n",
            "Epoch 39/150\n",
            "614/614 [==============================] - 0s 376us/step - loss: 0.6072 - acc: 0.6792 - val_loss: 0.6747 - val_acc: 0.6688\n",
            "Epoch 40/150\n",
            "614/614 [==============================] - 0s 374us/step - loss: 0.5953 - acc: 0.7085 - val_loss: 0.6657 - val_acc: 0.6688\n",
            "Epoch 41/150\n",
            "614/614 [==============================] - 0s 387us/step - loss: 0.6133 - acc: 0.7068 - val_loss: 0.6744 - val_acc: 0.6558\n",
            "Epoch 42/150\n",
            "614/614 [==============================] - 0s 341us/step - loss: 0.6014 - acc: 0.7052 - val_loss: 0.6617 - val_acc: 0.6558\n",
            "Epoch 43/150\n",
            "614/614 [==============================] - 0s 367us/step - loss: 0.5813 - acc: 0.7166 - val_loss: 0.7363 - val_acc: 0.6558\n",
            "Epoch 44/150\n",
            "614/614 [==============================] - 0s 385us/step - loss: 0.5682 - acc: 0.7085 - val_loss: 0.7129 - val_acc: 0.6948\n",
            "Epoch 45/150\n",
            "614/614 [==============================] - 0s 347us/step - loss: 0.6065 - acc: 0.6873 - val_loss: 0.7521 - val_acc: 0.6169\n",
            "Epoch 46/150\n",
            "614/614 [==============================] - 0s 363us/step - loss: 0.5938 - acc: 0.7085 - val_loss: 0.6648 - val_acc: 0.6688\n",
            "Epoch 47/150\n",
            "614/614 [==============================] - 0s 360us/step - loss: 0.5772 - acc: 0.7182 - val_loss: 0.7022 - val_acc: 0.6558\n",
            "Epoch 48/150\n",
            "614/614 [==============================] - 0s 366us/step - loss: 0.5963 - acc: 0.6971 - val_loss: 0.7013 - val_acc: 0.6948\n",
            "Epoch 49/150\n",
            "614/614 [==============================] - 0s 378us/step - loss: 0.5739 - acc: 0.7150 - val_loss: 0.6871 - val_acc: 0.6753\n",
            "Epoch 50/150\n",
            "614/614 [==============================] - 0s 380us/step - loss: 0.5761 - acc: 0.7199 - val_loss: 0.7104 - val_acc: 0.6364\n",
            "Epoch 51/150\n",
            "614/614 [==============================] - 0s 375us/step - loss: 0.5837 - acc: 0.7215 - val_loss: 0.6554 - val_acc: 0.6753\n",
            "Epoch 52/150\n",
            "614/614 [==============================] - 0s 362us/step - loss: 0.5661 - acc: 0.7150 - val_loss: 0.6941 - val_acc: 0.6364\n",
            "Epoch 53/150\n",
            "614/614 [==============================] - 0s 412us/step - loss: 0.5637 - acc: 0.7248 - val_loss: 0.7423 - val_acc: 0.6753\n",
            "Epoch 54/150\n",
            "614/614 [==============================] - 0s 376us/step - loss: 0.5688 - acc: 0.7166 - val_loss: 0.6826 - val_acc: 0.6753\n",
            "Epoch 55/150\n",
            "614/614 [==============================] - 0s 383us/step - loss: 0.5795 - acc: 0.7101 - val_loss: 0.6669 - val_acc: 0.6688\n",
            "Epoch 56/150\n",
            "614/614 [==============================] - 0s 382us/step - loss: 0.5694 - acc: 0.7199 - val_loss: 0.7105 - val_acc: 0.6818\n",
            "Epoch 57/150\n",
            "614/614 [==============================] - 0s 381us/step - loss: 0.5703 - acc: 0.7296 - val_loss: 0.6472 - val_acc: 0.6688\n",
            "Epoch 58/150\n",
            "614/614 [==============================] - 0s 388us/step - loss: 0.5650 - acc: 0.7231 - val_loss: 0.6759 - val_acc: 0.6429\n",
            "Epoch 59/150\n",
            "614/614 [==============================] - 0s 369us/step - loss: 0.5728 - acc: 0.7085 - val_loss: 0.7276 - val_acc: 0.6494\n",
            "Epoch 60/150\n",
            "614/614 [==============================] - 0s 375us/step - loss: 0.5709 - acc: 0.7182 - val_loss: 0.6585 - val_acc: 0.6429\n",
            "Epoch 61/150\n",
            "614/614 [==============================] - 0s 371us/step - loss: 0.5475 - acc: 0.7231 - val_loss: 0.6650 - val_acc: 0.6494\n",
            "Epoch 62/150\n",
            "614/614 [==============================] - 0s 375us/step - loss: 0.5697 - acc: 0.7117 - val_loss: 0.6699 - val_acc: 0.6753\n",
            "Epoch 63/150\n",
            "614/614 [==============================] - 0s 375us/step - loss: 0.5552 - acc: 0.7443 - val_loss: 0.6818 - val_acc: 0.6688\n",
            "Epoch 64/150\n",
            "614/614 [==============================] - 0s 369us/step - loss: 0.5682 - acc: 0.7215 - val_loss: 0.7549 - val_acc: 0.6494\n",
            "Epoch 65/150\n",
            "614/614 [==============================] - 0s 362us/step - loss: 0.5622 - acc: 0.7215 - val_loss: 0.6750 - val_acc: 0.6364\n",
            "Epoch 66/150\n",
            "614/614 [==============================] - 0s 381us/step - loss: 0.5563 - acc: 0.7313 - val_loss: 0.6933 - val_acc: 0.6364\n",
            "Epoch 67/150\n",
            "614/614 [==============================] - 0s 367us/step - loss: 0.5803 - acc: 0.7134 - val_loss: 0.6841 - val_acc: 0.6688\n",
            "Epoch 68/150\n",
            "614/614 [==============================] - 0s 361us/step - loss: 0.5564 - acc: 0.7231 - val_loss: 0.6431 - val_acc: 0.7013\n",
            "Epoch 69/150\n",
            "614/614 [==============================] - 0s 377us/step - loss: 0.5374 - acc: 0.7410 - val_loss: 0.6948 - val_acc: 0.6299\n",
            "Epoch 70/150\n",
            "614/614 [==============================] - 0s 358us/step - loss: 0.5698 - acc: 0.7248 - val_loss: 0.6997 - val_acc: 0.6494\n",
            "Epoch 71/150\n",
            "614/614 [==============================] - 0s 383us/step - loss: 0.5610 - acc: 0.7117 - val_loss: 0.6892 - val_acc: 0.6234\n",
            "Epoch 72/150\n",
            "614/614 [==============================] - 0s 360us/step - loss: 0.5442 - acc: 0.7410 - val_loss: 0.6434 - val_acc: 0.6948\n",
            "Epoch 73/150\n",
            "614/614 [==============================] - 0s 403us/step - loss: 0.5509 - acc: 0.7345 - val_loss: 0.6735 - val_acc: 0.6429\n",
            "Epoch 74/150\n",
            "614/614 [==============================] - 0s 373us/step - loss: 0.5482 - acc: 0.7394 - val_loss: 0.6303 - val_acc: 0.6883\n",
            "Epoch 75/150\n",
            "614/614 [==============================] - 0s 364us/step - loss: 0.5345 - acc: 0.7573 - val_loss: 0.6538 - val_acc: 0.6818\n",
            "Epoch 76/150\n",
            "614/614 [==============================] - 0s 368us/step - loss: 0.5309 - acc: 0.7313 - val_loss: 0.7267 - val_acc: 0.6104\n",
            "Epoch 77/150\n",
            "614/614 [==============================] - 0s 366us/step - loss: 0.5580 - acc: 0.7199 - val_loss: 0.6401 - val_acc: 0.6883\n",
            "Epoch 78/150\n",
            "614/614 [==============================] - 0s 351us/step - loss: 0.5716 - acc: 0.7085 - val_loss: 0.6623 - val_acc: 0.6623\n",
            "Epoch 79/150\n",
            "614/614 [==============================] - 0s 364us/step - loss: 0.5395 - acc: 0.7362 - val_loss: 0.6411 - val_acc: 0.6623\n",
            "Epoch 80/150\n",
            "614/614 [==============================] - 0s 377us/step - loss: 0.5717 - acc: 0.7052 - val_loss: 0.6543 - val_acc: 0.6883\n",
            "Epoch 81/150\n",
            "614/614 [==============================] - 0s 363us/step - loss: 0.5497 - acc: 0.7362 - val_loss: 0.6854 - val_acc: 0.6234\n",
            "Epoch 82/150\n",
            "614/614 [==============================] - 0s 361us/step - loss: 0.5474 - acc: 0.7345 - val_loss: 0.6490 - val_acc: 0.6494\n",
            "Epoch 83/150\n",
            "614/614 [==============================] - 0s 356us/step - loss: 0.5425 - acc: 0.7345 - val_loss: 0.6945 - val_acc: 0.6558\n",
            "Epoch 84/150\n",
            "614/614 [==============================] - 0s 365us/step - loss: 0.5751 - acc: 0.7117 - val_loss: 0.6360 - val_acc: 0.6688\n",
            "Epoch 85/150\n",
            "614/614 [==============================] - 0s 344us/step - loss: 0.5397 - acc: 0.7476 - val_loss: 0.6582 - val_acc: 0.6364\n",
            "Epoch 86/150\n",
            "614/614 [==============================] - 0s 382us/step - loss: 0.5317 - acc: 0.7394 - val_loss: 0.6452 - val_acc: 0.6299\n",
            "Epoch 87/150\n",
            "614/614 [==============================] - 0s 348us/step - loss: 0.5317 - acc: 0.7394 - val_loss: 0.7705 - val_acc: 0.6818\n",
            "Epoch 88/150\n",
            "614/614 [==============================] - 0s 361us/step - loss: 0.5654 - acc: 0.7329 - val_loss: 0.6768 - val_acc: 0.6753\n",
            "Epoch 89/150\n",
            "614/614 [==============================] - 0s 363us/step - loss: 0.5491 - acc: 0.7313 - val_loss: 0.6400 - val_acc: 0.6688\n",
            "Epoch 90/150\n",
            "614/614 [==============================] - 0s 360us/step - loss: 0.5212 - acc: 0.7508 - val_loss: 0.6544 - val_acc: 0.6429\n",
            "Epoch 91/150\n",
            "614/614 [==============================] - 0s 350us/step - loss: 0.5595 - acc: 0.7215 - val_loss: 0.7154 - val_acc: 0.6883\n",
            "Epoch 92/150\n",
            "614/614 [==============================] - 0s 346us/step - loss: 0.5543 - acc: 0.7410 - val_loss: 0.8002 - val_acc: 0.5519\n",
            "Epoch 93/150\n",
            "614/614 [==============================] - 0s 352us/step - loss: 0.5514 - acc: 0.7329 - val_loss: 0.7081 - val_acc: 0.7143\n",
            "Epoch 94/150\n",
            "614/614 [==============================] - 0s 379us/step - loss: 0.5342 - acc: 0.7378 - val_loss: 0.6289 - val_acc: 0.6494\n",
            "Epoch 95/150\n",
            "614/614 [==============================] - 0s 356us/step - loss: 0.5186 - acc: 0.7508 - val_loss: 0.6564 - val_acc: 0.6558\n",
            "Epoch 96/150\n",
            "614/614 [==============================] - 0s 360us/step - loss: 0.5630 - acc: 0.7182 - val_loss: 0.6406 - val_acc: 0.6623\n",
            "Epoch 97/150\n",
            "614/614 [==============================] - 0s 356us/step - loss: 0.5219 - acc: 0.7476 - val_loss: 0.6515 - val_acc: 0.6623\n",
            "Epoch 98/150\n",
            "614/614 [==============================] - 0s 362us/step - loss: 0.5148 - acc: 0.7508 - val_loss: 0.6328 - val_acc: 0.6558\n",
            "Epoch 99/150\n",
            "614/614 [==============================] - 0s 362us/step - loss: 0.5163 - acc: 0.7590 - val_loss: 0.6477 - val_acc: 0.6494\n",
            "Epoch 100/150\n",
            "614/614 [==============================] - 0s 390us/step - loss: 0.5214 - acc: 0.7638 - val_loss: 0.6750 - val_acc: 0.6948\n",
            "Epoch 101/150\n",
            "614/614 [==============================] - 0s 352us/step - loss: 0.5288 - acc: 0.7541 - val_loss: 0.6324 - val_acc: 0.6299\n",
            "Epoch 102/150\n",
            "614/614 [==============================] - 0s 353us/step - loss: 0.5399 - acc: 0.7541 - val_loss: 0.6372 - val_acc: 0.6753\n",
            "Epoch 103/150\n",
            "614/614 [==============================] - 0s 393us/step - loss: 0.5026 - acc: 0.7573 - val_loss: 0.7007 - val_acc: 0.7143\n",
            "Epoch 104/150\n",
            "614/614 [==============================] - 0s 357us/step - loss: 0.5418 - acc: 0.7329 - val_loss: 0.6502 - val_acc: 0.6429\n",
            "Epoch 105/150\n",
            "614/614 [==============================] - 0s 363us/step - loss: 0.5195 - acc: 0.7573 - val_loss: 0.6896 - val_acc: 0.6883\n",
            "Epoch 106/150\n",
            "614/614 [==============================] - 0s 360us/step - loss: 0.5367 - acc: 0.7573 - val_loss: 0.6200 - val_acc: 0.6623\n",
            "Epoch 107/150\n",
            "614/614 [==============================] - 0s 361us/step - loss: 0.5106 - acc: 0.7590 - val_loss: 0.7017 - val_acc: 0.6883\n",
            "Epoch 108/150\n",
            "614/614 [==============================] - 0s 433us/step - loss: 0.5377 - acc: 0.7248 - val_loss: 0.6398 - val_acc: 0.6558\n",
            "Epoch 109/150\n",
            "614/614 [==============================] - 0s 421us/step - loss: 0.5077 - acc: 0.7476 - val_loss: 0.6736 - val_acc: 0.6818\n",
            "Epoch 110/150\n",
            "614/614 [==============================] - 0s 393us/step - loss: 0.5282 - acc: 0.7476 - val_loss: 0.6219 - val_acc: 0.6688\n",
            "Epoch 111/150\n",
            "614/614 [==============================] - 0s 396us/step - loss: 0.5316 - acc: 0.7573 - val_loss: 0.6675 - val_acc: 0.7273\n",
            "Epoch 112/150\n",
            "614/614 [==============================] - 0s 365us/step - loss: 0.5323 - acc: 0.7410 - val_loss: 0.6808 - val_acc: 0.6948\n",
            "Epoch 113/150\n",
            "614/614 [==============================] - 0s 366us/step - loss: 0.5350 - acc: 0.7264 - val_loss: 0.6562 - val_acc: 0.6688\n",
            "Epoch 114/150\n",
            "614/614 [==============================] - 0s 370us/step - loss: 0.5155 - acc: 0.7362 - val_loss: 0.6583 - val_acc: 0.7208\n",
            "Epoch 115/150\n",
            "614/614 [==============================] - 0s 355us/step - loss: 0.5131 - acc: 0.7622 - val_loss: 0.6301 - val_acc: 0.6623\n",
            "Epoch 116/150\n",
            "614/614 [==============================] - 0s 397us/step - loss: 0.5125 - acc: 0.7476 - val_loss: 0.6726 - val_acc: 0.7143\n",
            "Epoch 117/150\n",
            "614/614 [==============================] - 0s 404us/step - loss: 0.5134 - acc: 0.7508 - val_loss: 0.6423 - val_acc: 0.7208\n",
            "Epoch 118/150\n",
            "614/614 [==============================] - 0s 420us/step - loss: 0.5076 - acc: 0.7622 - val_loss: 0.6426 - val_acc: 0.6818\n",
            "Epoch 119/150\n",
            "614/614 [==============================] - 0s 373us/step - loss: 0.5033 - acc: 0.7638 - val_loss: 0.6511 - val_acc: 0.6688\n",
            "Epoch 120/150\n",
            "614/614 [==============================] - 0s 372us/step - loss: 0.5170 - acc: 0.7720 - val_loss: 0.6415 - val_acc: 0.6948\n",
            "Epoch 121/150\n",
            "614/614 [==============================] - 0s 370us/step - loss: 0.4964 - acc: 0.7622 - val_loss: 0.7006 - val_acc: 0.6299\n",
            "Epoch 122/150\n",
            "614/614 [==============================] - 0s 373us/step - loss: 0.5134 - acc: 0.7410 - val_loss: 0.6716 - val_acc: 0.6688\n",
            "Epoch 123/150\n",
            "614/614 [==============================] - 0s 351us/step - loss: 0.5325 - acc: 0.7101 - val_loss: 0.7606 - val_acc: 0.6753\n",
            "Epoch 124/150\n",
            "614/614 [==============================] - 0s 353us/step - loss: 0.5087 - acc: 0.7606 - val_loss: 0.6308 - val_acc: 0.6883\n",
            "Epoch 125/150\n",
            "614/614 [==============================] - 0s 400us/step - loss: 0.5180 - acc: 0.7541 - val_loss: 0.6348 - val_acc: 0.6494\n",
            "Epoch 126/150\n",
            "614/614 [==============================] - 0s 354us/step - loss: 0.5150 - acc: 0.7199 - val_loss: 0.6504 - val_acc: 0.6623\n",
            "Epoch 127/150\n",
            "614/614 [==============================] - 0s 362us/step - loss: 0.5127 - acc: 0.7671 - val_loss: 0.6350 - val_acc: 0.6688\n",
            "Epoch 128/150\n",
            "614/614 [==============================] - 0s 357us/step - loss: 0.4995 - acc: 0.7671 - val_loss: 0.6176 - val_acc: 0.6753\n",
            "Epoch 129/150\n",
            "614/614 [==============================] - 0s 364us/step - loss: 0.5145 - acc: 0.7573 - val_loss: 0.6133 - val_acc: 0.6883\n",
            "Epoch 130/150\n",
            "614/614 [==============================] - 0s 372us/step - loss: 0.5098 - acc: 0.7573 - val_loss: 0.6341 - val_acc: 0.7208\n",
            "Epoch 131/150\n",
            "614/614 [==============================] - 0s 384us/step - loss: 0.5089 - acc: 0.7573 - val_loss: 0.6237 - val_acc: 0.6688\n",
            "Epoch 132/150\n",
            "614/614 [==============================] - 0s 365us/step - loss: 0.4974 - acc: 0.7655 - val_loss: 0.6000 - val_acc: 0.6948\n",
            "Epoch 133/150\n",
            "614/614 [==============================] - 0s 383us/step - loss: 0.4903 - acc: 0.7769 - val_loss: 0.6467 - val_acc: 0.6623\n",
            "Epoch 134/150\n",
            "614/614 [==============================] - 0s 370us/step - loss: 0.5018 - acc: 0.7590 - val_loss: 0.6246 - val_acc: 0.6688\n",
            "Epoch 135/150\n",
            "614/614 [==============================] - 0s 350us/step - loss: 0.5071 - acc: 0.7557 - val_loss: 0.6394 - val_acc: 0.6688\n",
            "Epoch 136/150\n",
            "614/614 [==============================] - 0s 408us/step - loss: 0.4951 - acc: 0.7492 - val_loss: 0.6276 - val_acc: 0.6883\n",
            "Epoch 137/150\n",
            "614/614 [==============================] - 0s 416us/step - loss: 0.4963 - acc: 0.7638 - val_loss: 0.6489 - val_acc: 0.6948\n",
            "Epoch 138/150\n",
            "614/614 [==============================] - 0s 413us/step - loss: 0.5055 - acc: 0.7492 - val_loss: 0.6542 - val_acc: 0.6883\n",
            "Epoch 139/150\n",
            "614/614 [==============================] - 0s 368us/step - loss: 0.5139 - acc: 0.7557 - val_loss: 0.6833 - val_acc: 0.6494\n",
            "Epoch 140/150\n",
            "614/614 [==============================] - 0s 364us/step - loss: 0.5237 - acc: 0.7573 - val_loss: 0.6322 - val_acc: 0.6494\n",
            "Epoch 141/150\n",
            "614/614 [==============================] - 0s 367us/step - loss: 0.4986 - acc: 0.7573 - val_loss: 0.6339 - val_acc: 0.6623\n",
            "Epoch 142/150\n",
            "614/614 [==============================] - 0s 385us/step - loss: 0.5001 - acc: 0.7492 - val_loss: 0.6245 - val_acc: 0.6558\n",
            "Epoch 143/150\n",
            "614/614 [==============================] - 0s 348us/step - loss: 0.5134 - acc: 0.7459 - val_loss: 0.6145 - val_acc: 0.6623\n",
            "Epoch 144/150\n",
            "614/614 [==============================] - 0s 344us/step - loss: 0.4829 - acc: 0.7704 - val_loss: 0.6635 - val_acc: 0.6494\n",
            "Epoch 145/150\n",
            "614/614 [==============================] - 0s 354us/step - loss: 0.5025 - acc: 0.7785 - val_loss: 0.6166 - val_acc: 0.6948\n",
            "Epoch 146/150\n",
            "614/614 [==============================] - 0s 363us/step - loss: 0.4869 - acc: 0.7785 - val_loss: 0.6964 - val_acc: 0.6558\n",
            "Epoch 147/150\n",
            "614/614 [==============================] - 0s 398us/step - loss: 0.5410 - acc: 0.7378 - val_loss: 0.6742 - val_acc: 0.7208\n",
            "Epoch 148/150\n",
            "614/614 [==============================] - 0s 374us/step - loss: 0.5018 - acc: 0.7655 - val_loss: 0.6748 - val_acc: 0.7208\n",
            "Epoch 149/150\n",
            "614/614 [==============================] - 0s 357us/step - loss: 0.5422 - acc: 0.7410 - val_loss: 0.6468 - val_acc: 0.6558\n",
            "Epoch 150/150\n",
            "614/614 [==============================] - 0s 354us/step - loss: 0.5160 - acc: 0.7492 - val_loss: 0.6696 - val_acc: 0.6688\n"
          ],
          "name": "stdout"
        },
        {
          "output_type": "execute_result",
          "data": {
            "text/plain": [
              "<keras.callbacks.History at 0x7f5b9cb1cdd8>"
            ]
          },
          "metadata": {
            "tags": []
          },
          "execution_count": 12
        }
      ]
    },
    {
      "cell_type": "code",
      "metadata": {
        "id": "010RJ6HtlWy5",
        "colab_type": "code",
        "colab": {}
      },
      "source": [
        ""
      ],
      "execution_count": 0,
      "outputs": []
    }
  ]
}